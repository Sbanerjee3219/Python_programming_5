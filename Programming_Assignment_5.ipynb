{
 "cells": [
  {
   "cell_type": "markdown",
   "metadata": {},
   "source": [
    "# Assignment-5\n",
    "\n",
    "## Name- Soumyadeep Banerjee\n",
    "\n",
    "### Batch- Full stack Data Science"
   ]
  },
  {
   "cell_type": "markdown",
   "metadata": {},
   "source": [
    "#### Write a Python Program to Find LCM?"
   ]
  },
  {
   "cell_type": "code",
   "execution_count": 1,
   "metadata": {},
   "outputs": [
    {
     "name": "stdout",
     "output_type": "stream",
     "text": [
      "enter first number4\n",
      "enter second number6\n",
      "LCM is  12\n"
     ]
    }
   ],
   "source": [
    "n = int(input(\"enter first number\"))\n",
    "m = int(input(\"enter second number\"))\n",
    "if n > m:\n",
    "    larger, smaller = n, m\n",
    "else:\n",
    "    larger, smaller = m, n\n",
    "while True:\n",
    "\n",
    "\n",
    "    if (larger % n == 0) and (larger % m == 0):\n",
    "            print(\"LCM is \", larger)\n",
    "            break\n",
    "\n",
    "    else:\n",
    "        larger += 1\n"
   ]
  },
  {
   "cell_type": "markdown",
   "metadata": {},
   "source": [
    "#### Write a Python Program to Find HCF?"
   ]
  },
  {
   "cell_type": "code",
   "execution_count": 9,
   "metadata": {},
   "outputs": [
    {
     "name": "stdout",
     "output_type": "stream",
     "text": [
      "enter first number24\n",
      "enter second number36\n",
      "HCF is  12\n"
     ]
    }
   ],
   "source": [
    "n = int(input(\"enter first number\"))\n",
    "m = int(input(\"enter second number\"))\n",
    "if n > m:\n",
    "    larger, smaller = n, m\n",
    "else:\n",
    "    larger, smaller = m, n\n",
    "for i in range(1,smaller+1):\n",
    "    if (n%i==0) and (m%i==0):\n",
    "        hcf=i\n",
    "\n",
    "print(\"HCF is \",hcf)"
   ]
  },
  {
   "cell_type": "markdown",
   "metadata": {},
   "source": [
    "#### Write a Python Program to Convert Decimal to Binary, Octal and Hexadecimal?"
   ]
  },
  {
   "cell_type": "code",
   "execution_count": 11,
   "metadata": {},
   "outputs": [
    {
     "name": "stdout",
     "output_type": "stream",
     "text": [
      "enter number174\n",
      "binary conversion of 174 is 10101110\n"
     ]
    }
   ],
   "source": [
    "def dec_to_bindary(dec):\n",
    "    rem = str()\n",
    "\n",
    "    while dec > 0:\n",
    "        if dec % 2 != 0:\n",
    "            rem += str(1)\n",
    "        else:\n",
    "            rem += str(0)\n",
    "        dec = int(dec / 2)\n",
    "    return int(rem[::-1])\n",
    "a=int(input(\"enter number\"))\n",
    "x=dec_to_bindary(a)\n",
    "\n",
    "print(f\"binary conversion of {a} is {x}\")\n",
    "\n"
   ]
  },
  {
   "cell_type": "code",
   "execution_count": 3,
   "metadata": {},
   "outputs": [
    {
     "name": "stdout",
     "output_type": "stream",
     "text": [
      "enter number1792\n",
      "Octal conversion of 1792 is 3400\n"
     ]
    }
   ],
   "source": [
    "def dec_to_octal(dec):\n",
    "    rem = str()\n",
    "\n",
    "    while dec>0:\n",
    "        if dec>8:\n",
    "            if dec %8==0:\n",
    "                rem += str(0)\n",
    "            else:\n",
    "                rem += str(int(dec%8))\n",
    "\n",
    "        else:\n",
    "            rem += str(dec)\n",
    "        dec=int(dec/8)\n",
    "    return int(rem[::-1])\n",
    "\n",
    "a=int(input(\"enter number\"))\n",
    "\n",
    "print((f\"Octal conversion of {a} is {dec_to_octal(a)}\"))"
   ]
  },
  {
   "cell_type": "code",
   "execution_count": 14,
   "metadata": {},
   "outputs": [
    {
     "name": "stdout",
     "output_type": "stream",
     "text": [
      "enter number17652\n",
      "Octal conversion of 17652 is 44F4\n"
     ]
    }
   ],
   "source": [
    "def dec_to_hex(dec):\n",
    "    rem = str()\n",
    "\n",
    "    while dec > 0:\n",
    "\n",
    "        if dec % 16 >= 1 and dec % 16 < 9:\n",
    "            rem += str(int(dec % 16))\n",
    "        elif dec % 16 >= 10:\n",
    "\n",
    "            rem += chr((dec%16)-10+65)\n",
    "        else:\n",
    "            rem += str(int(dec % 16))\n",
    "        dec = int(dec / 16)\n",
    "    return rem[::-1]\n",
    "\n",
    "\n",
    "a = int(input(\"enter number\"))\n",
    "x=dec_to_hex(a)\n",
    "print((f\"Octal conversion of {a} is {x}\"))\n"
   ]
  },
  {
   "cell_type": "markdown",
   "metadata": {},
   "source": [
    "#### Write a Python Program To Find ASCII value of a character?"
   ]
  },
  {
   "cell_type": "code",
   "execution_count": 17,
   "metadata": {},
   "outputs": [
    {
     "name": "stdout",
     "output_type": "stream",
     "text": [
      "Enter characterH\n",
      "ASCII value of H is 72\n"
     ]
    }
   ],
   "source": [
    "n=input(\"Enter character\")\n",
    "print(f\"ASCII value of {n} is {ord(n)}\")"
   ]
  },
  {
   "cell_type": "markdown",
   "metadata": {},
   "source": [
    "#### Write a Python Program to Make a Simple Calculator with 4 basic mathematical operations?"
   ]
  },
  {
   "cell_type": "code",
   "execution_count": 9,
   "metadata": {},
   "outputs": [
    {
     "name": "stdout",
     "output_type": "stream",
     "text": [
      "Enter 1 for summation 2 for subtraction 3 for multiplication 4 for division: 4\n",
      "enter first number8\n",
      "enter second number12\n",
      "press yes if you want higher num to get divided by lower num or press no for same input? no\n",
      "division of 8 and 12 is 0.667\n"
     ]
    }
   ],
   "source": [
    "def summation(n1,n2):\n",
    "    return n1+n2\n",
    "def subtraction(n1,n2):\n",
    "    return abs(n1-n2)\n",
    "def division(n1,n2):\n",
    "    choice2=input(\"Press Yes if you want higher num to get divided by lower num or press no for same input? \".lower())\n",
    "    if choice2==\"yes\":\n",
    "        if n1>n2:\n",
    "            return n1/n2\n",
    "        else:\n",
    "            return n2/n1\n",
    "    else:\n",
    "        return n1/n2\n",
    "def multiplication(n1,n2):\n",
    "    return n1*n2\n",
    "\n",
    "choice=int(input(\"Enter 1 for summation 2 for subtraction 3 for multiplication 4 for division: \"))\n",
    "n1=int(input(\"enter first number\"))\n",
    "n2=int(input(\"enter second number\"))\n",
    "\n",
    "if choice==1:\n",
    "    print(f\"sum of {n1} and {n2} is {summation(n1,n2)}\")\n",
    "elif choice==2:\n",
    "    print(f\"subtraction of {n1} and {n2} is {subtraction(n1,n2)}\")\n",
    "elif choice==3:\n",
    "    print(f\"multiplication of {n1} and {n2} is {multiplication(n1,n2)}\")\n",
    "elif choice==4:\n",
    "    print(f\"division of {n1} and {n2} is {division(n1,n2):.3f}\")"
   ]
  },
  {
   "cell_type": "code",
   "execution_count": null,
   "metadata": {},
   "outputs": [],
   "source": []
  },
  {
   "cell_type": "code",
   "execution_count": null,
   "metadata": {},
   "outputs": [],
   "source": []
  }
 ],
 "metadata": {
  "kernelspec": {
   "display_name": "Python 3",
   "language": "python",
   "name": "python3"
  },
  "language_info": {
   "codemirror_mode": {
    "name": "ipython",
    "version": 3
   },
   "file_extension": ".py",
   "mimetype": "text/x-python",
   "name": "python",
   "nbconvert_exporter": "python",
   "pygments_lexer": "ipython3",
   "version": "3.8.3"
  }
 },
 "nbformat": 4,
 "nbformat_minor": 4
}
